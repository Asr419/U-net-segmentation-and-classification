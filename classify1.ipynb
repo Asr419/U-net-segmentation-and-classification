{
 "nbformat": 4,
 "nbformat_minor": 2,
 "metadata": {
  "language_info": {
   "name": "python",
   "codemirror_mode": {
    "name": "ipython",
    "version": 3
   },
   "version": "3.7.3-final"
  },
  "orig_nbformat": 2,
  "file_extension": ".py",
  "mimetype": "text/x-python",
  "name": "python",
  "npconvert_exporter": "python",
  "pygments_lexer": "ipython3",
  "version": 3,
  "kernelspec": {
   "name": "python37364bitb881807a2701442397e35e3fb8dd8319",
   "display_name": "Python 3.7.3 64-bit"
  }
 },
 "cells": [
  {
   "cell_type": "code",
   "execution_count": 1,
   "metadata": {},
   "outputs": [
    {
     "name": "stderr",
     "output_type": "stream",
     "text": "Using TensorFlow backend.\n"
    }
   ],
   "source": [
    "import glob\n",
    "import numpy as np\n",
    "import os.path as path\n",
    "from scipy import misc\n",
    "import os\n",
    "from PIL import Image\n",
    "import numpy as np\n",
    "from sklearn.model_selection import train_test_split\n",
    "from keras.models import load_model\n",
    "from sklearn.datasets import load_files   \n",
    "from keras.utils import np_utils\n",
    "from glob import glob\n",
    "from keras import applications\n",
    "from keras.preprocessing.image import ImageDataGenerator \n",
    "from keras import optimizers\n",
    "from keras.models import Sequential,Model,load_model\n",
    "from keras.layers import Dense, Dropout, Flatten, Conv2D, MaxPool2D,GlobalAveragePooling2D\n",
    "from keras.callbacks import TensorBoard,ReduceLROnPlateau,ModelCheckpoint"
   ]
  },
  {
   "cell_type": "code",
   "execution_count": 2,
   "metadata": {},
   "outputs": [
    {
     "name": "stdout",
     "output_type": "stream",
     "text": "(5008,) (5008, 64, 64)\n"
    }
   ],
   "source": [
    "dirs=os.listdir(\"Damaged\")\n",
    "dirs1=os.listdir(\"Normal\")\n",
    "m=[\"Damaged/\",\"Normal/\"]\n",
    "k=[\"Ap_Pedicle.png\",\"Ap_Spinous_Process.png\",\"Ap_Vertebra.png\"]\n",
    "s=[\"Lat_Anterior_Vertebral_Line.png\",\"Lat_Disk_Height.png\",\"Lat_Posterior_Vertebral_Line.png\",\"Lat_Spinous_Process.png\",\"Lat_Vertebra.png\"]\n",
    "labels = []\n",
    "masks_list =[]\n",
    "for file in dirs1:\n",
    "    for i in k:\n",
    "         masks=Image.open( \"Normal/\"+ file + \"/AP/\" + i)\n",
    "         output=0.0\n",
    "         im = masks.resize((64,64))\n",
    "         width, height = im.size \n",
    "         masks_list.append(np.array(im))\n",
    "         labels.append(output)\n",
    "for file in dirs1:\n",
    "    for i in s:\n",
    "        masks=Image.open( \"Normal/\"+ file + \"/LAT/\" + i)\n",
    "        output=0.0\n",
    "        im = masks.resize((64,64))\n",
    "        width, height = im.size \n",
    "        masks_list.append(np.array(im))\n",
    "        labels.append(output)\n",
    "for file in dirs:\n",
    "    for i in s:\n",
    "        masks=Image.open( \"Damaged/\"+ file + \"/LAT/\" + i)\n",
    "        im = masks.resize((64,64))\n",
    "        output=1.0\n",
    "        width, height = im.size \n",
    "        masks_list.append(np.array(im)) \n",
    "        labels.append(output)\n",
    "for file in dirs:\n",
    "    for i in k:\n",
    "        masks=Image.open( \"Damaged/\"+ file + \"/AP/\" + i)\n",
    "        im = masks.resize((64,64))\n",
    "        output=1.0\n",
    "        width, height = im.size \n",
    "        masks_list.append(np.array(im))\n",
    "        labels.append(output)\n",
    "masks_np = np.asarray(masks_list)\n",
    "labels_np=np.asarray(labels)\n",
    "print(labels_np.shape,masks_np.shape)"
   ]
  },
  {
   "cell_type": "code",
   "execution_count": 3,
   "metadata": {},
   "outputs": [
    {
     "name": "stdout",
     "output_type": "stream",
     "text": "(5008, 64, 64, 1) (5008, 1)\n"
    }
   ],
   "source": [
    "y = np.asarray(labels_np)\n",
    "y=y.reshape(y.shape[0],1)\n",
    "#x = np.asarray(masks_np, dtype=np.float32)\n",
    "x = masks_np.reshape(masks_np.shape[0], masks_np.shape[1], masks_np.shape[2],1)\n",
    "x=x/255\n",
    "print(x.shape,y.shape)\n",
    "from keras.utils import to_categorical\n",
    "y1=to_categorical(y)"
   ]
  },
  {
   "cell_type": "code",
   "execution_count": 7,
   "metadata": {},
   "outputs": [],
   "source": [
    "img_height,img_width = 64,64 \n",
    "num_classes = 2\n",
    "#If imagenet weights are being loaded, \n",
    "#input must have a static square shape (one of (128, 128), (160, 160), (192, 192), or (224, 224))\n",
    "base_model = applications.resnet50.ResNet50(weights= None, include_top=False, input_shape= (img_height,img_width,1))"
   ]
  },
  {
   "cell_type": "code",
   "execution_count": 8,
   "metadata": {},
   "outputs": [
    {
     "name": "stderr",
     "output_type": "stream",
     "text": "W0223 00:50:29.648647  5680 nn_ops.py:4224] Large dropout rate: 0.7 (>0.5). In TensorFlow 2.x, dropout() uses dropout rate instead of keep_prob. Please ensure that this is intended.\n"
    }
   ],
   "source": [
    "z = base_model.output\n",
    "z = GlobalAveragePooling2D()(z)\n",
    "z = Dropout(0.7)(z) \n",
    "predictions = Dense(num_classes, activation= 'softmax')(z)\n",
    "model = Model(inputs = base_model.input, outputs = predictions)"
   ]
  },
  {
   "cell_type": "code",
   "execution_count": 9,
   "metadata": {},
   "outputs": [],
   "source": [
    "from keras.optimizers import SGD, Adam\n",
    "# sgd = SGD(lr=lrate, momentum=0.9, decay=decay, nesterov=False)\n",
    "adam = Adam(lr=0.0001)\n",
    "model.compile(optimizer= adam, loss='binary_crossentropy', metrics=['accuracy'])"
   ]
  },
  {
   "cell_type": "code",
   "execution_count": 10,
   "metadata": {},
   "outputs": [
    {
     "name": "stdout",
     "output_type": "stream",
     "text": "Train on 4006 samples, validate on 1002 samples\nEpoch 1/5\n4006/4006 [==============================] - 1009s 252ms/step - loss: 1.2875 - acc: 0.6041 - val_loss: 1.7070 - val_acc: 0.2914\nEpoch 2/5\n4006/4006 [==============================] - 2445s 610ms/step - loss: 1.1019 - acc: 0.6538 - val_loss: 2.1317 - val_acc: 0.2804\nEpoch 3/5\n4006/4006 [==============================] - 911s 227ms/step - loss: 0.9307 - acc: 0.7054 - val_loss: 2.2614 - val_acc: 0.3054\nEpoch 4/5\n4006/4006 [==============================] - 7775s 2s/step - loss: 0.7431 - acc: 0.7474 - val_loss: 4.6550 - val_acc: 0.1357\nEpoch 5/5\n4006/4006 [==============================] - 2958s 738ms/step - loss: 0.6965 - acc: 0.7668 - val_loss: 2.2376 - val_acc: 0.4301\n"
    }
   ],
   "source": [
    "\n",
    "hist=model.fit(x, y1, epochs = 5, batch_size = 128, validation_split=0.2)"
   ]
  },
  {
   "cell_type": "code",
   "execution_count": 17,
   "metadata": {},
   "outputs": [
    {
     "data": {
      "image/png": "[encoded data removed]",
      "text/plain": "<Figure size 432x288 with 1 Axes>"
     },
     "metadata": {
      "needs_background": "light"
     },
     "output_type": "display_data"
    }
   ],
   "source": [
    "import matplotlib.pyplot as plt\n",
    "plt.plot(hist.history['acc'])\n",
    "plt.plot(hist.history['val_acc'])\n",
    "plt.title('Model accuracy')\n",
    "plt.ylabel('Accuracy')\n",
    "plt.xlabel('Epoch')\n",
    "plt.legend(['Train','Val'],loc='upper left')\n",
    "plt.show()"
   ]
  },
  {
   "cell_type": "code",
   "execution_count": 12,
   "metadata": {},
   "outputs": [
    {
     "data": {
      "image/png": "[encoded data removed]",
      "text/plain": "<Figure size 432x288 with 1 Axes>"
     },
     "metadata": {
      "needs_background": "light"
     },
     "output_type": "display_data"
    }
   ],
   "source": [
    "plt.plot(hist.history['loss'])\n",
    "plt.plot(hist.history['val_loss'])\n",
    "plt.title('Model Loss')\n",
    "plt.ylabel('Loss')\n",
    "plt.xlabel('Epoch')\n",
    "plt.legend(['Train','Val'],loc='upper left')\n",
    "plt.show()"
   ]
  },
  {
   "cell_type": "code",
   "execution_count": 16,
   "metadata": {},
   "outputs": [],
   "source": [
    "model.save('my_model.h5')"
   ]
  },
  {
   "cell_type": "code",
   "execution_count": null,
   "metadata": {},
   "outputs": [],
   "source": []
  }
 ]
}