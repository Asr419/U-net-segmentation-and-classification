{
 "nbformat": 4,
 "nbformat_minor": 2,
 "metadata": {
  "language_info": {
   "name": "python",
   "codemirror_mode": {
    "name": "ipython",
    "version": 3
   },
   "version": "3.7.3-final"
  },
  "orig_nbformat": 2,
  "file_extension": ".py",
  "mimetype": "text/x-python",
  "name": "python",
  "npconvert_exporter": "python",
  "pygments_lexer": "ipython3",
  "version": 3,
  "kernelspec": {
   "name": "python37364bitb881807a2701442397e35e3fb8dd8319",
   "display_name": "Python 3.7.3 64-bit"
  }
 },
 "cells": [
  {
   "cell_type": "code",
   "execution_count": 1,
   "metadata": {},
   "outputs": [],
   "source": [
    "from tensorflow.keras.models import load_model\n",
    "from tensorflow.keras.preprocessing import image\n",
    "import numpy as np\n",
    "import os\n",
    "from PIL import Image\n",
    "import cv2\n",
    "from glob import glob\n",
    "import pickle\n",
    "import pandas as pd"
   ]
  },
  {
   "cell_type": "code",
   "execution_count": 2,
   "metadata": {},
   "outputs": [
    {
     "name": "stderr",
     "output_type": "stream",
     "text": "WARNING: Logging before flag parsing goes to stderr.\nW0224 00:13:52.074064  3748 deprecation.py:573] From C:\\Users\\Win10\\AppData\\Local\\Programs\\Python\\Python37\\lib\\site-packages\\tensorflow\\python\\util\\deprecation.py:507: calling VarianceScaling.__init__ (from tensorflow.python.ops.init_ops) with distribution=normal is deprecated and will be removed in a future version.\nInstructions for updating:\n`normal` is a deprecated alias for `truncated_normal`\nW0224 00:14:16.104976  3748 nn_ops.py:4224] Large dropout rate: 0.7 (>0.5). In TensorFlow 2.x, dropout() uses dropout rate instead of keep_prob. Please ensure that this is intended.\nW0224 00:14:33.139219  3748 deprecation.py:323] From C:\\Users\\Win10\\AppData\\Local\\Programs\\Python\\Python37\\lib\\site-packages\\tensorflow\\python\\ops\\math_grad.py:1250: add_dispatch_support.<locals>.wrapper (from tensorflow.python.ops.array_ops) is deprecated and will be removed in a future version.\nInstructions for updating:\nUse tf.where in 2.0, which has the same broadcast rule as np.where\n"
    }
   ],
   "source": [
    "model=load_model('my_model.h5')"
   ]
  },
  {
   "cell_type": "code",
   "execution_count": 3,
   "metadata": {},
   "outputs": [],
   "source": [
    "dirs=os.listdir(\"TestResizedMasks\")\n",
    "s=[\"/AP/Ap_Pedicle.png\",\"/AP/Ap_Spinous_Process.png\",\"/AP/Ap_Vertebra.png\",\"/LAT/Lat_Anterior_Vertebral_Line.png\",\"/LAT/Lat_Disk_Height.png\",\"/LAT/Lat_Posterior_Vertebral_Line.png\",\"/LAT/Lat_Spinous_Process.png\",\"/LAT/Lat_Vertebra.png\"]\n",
    "dict=[]\n",
    "for file in dirs:\n",
    "    n=[]\n",
    "    p=[]  \n",
    "    for i in s:\n",
    "        masks_list=[]\n",
    "        masks=Image.open( \"TestResizedMasks/\"+ file + i)\n",
    "        masks=masks.convert('1')\n",
    "        im = masks.resize((64,64))\n",
    "        width, height = im.size \n",
    "        masks_list.append(np.array(im))\n",
    "        masks_np = np.asarray(masks_list)\n",
    "        x = masks_np.reshape(masks_np.shape[0], masks_np.shape[1], masks_np.shape[2],1)\n",
    "        x=x/255\n",
    "        result=model.predict(x,batch_size=128)\n",
    "        #print(result)\n",
    "        if (result.item(0)>result.item(1)):\n",
    "           a=result.item(0)\n",
    "           k=0\n",
    "           n.append(a)\n",
    "           p.append(k)\n",
    "        else:\n",
    "           a=result.item(1)\n",
    "           k=1\n",
    "           n.append(a)\n",
    "           p.append(k)\n",
    "    l=n.index(max(n))\n",
    "    t=p[l]\n",
    "    #print(t)\n",
    "    dict.append({file,t})\n",
    "pickle_out=open(\"dict1.pickle\",\"wb\")\n",
    "pickle.dump(dict,pickle_out)\n",
    "pickle_out.close()\n"
   ]
  },
  {
   "cell_type": "code",
   "execution_count": null,
   "metadata": {},
   "outputs": [],
   "source": []
  },
  {
   "cell_type": "code",
   "execution_count": null,
   "metadata": {},
   "outputs": [],
   "source": []
  }
 ]
}